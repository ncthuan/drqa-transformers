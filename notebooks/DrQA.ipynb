{
  "nbformat": 4,
  "nbformat_minor": 0,
  "metadata": {
    "colab": {
      "name": "DrQA-web-ui",
      "provenance": [],
      "collapsed_sections": [],
      "toc_visible": true,
      "include_colab_link": true
    },
    "kernelspec": {
      "name": "python3",
      "display_name": "Python 3"
    },
    "language_info": {
      "name": "python"
    }
  },
  "cells": [
    {
      "cell_type": "markdown",
      "metadata": {
        "id": "view-in-github",
        "colab_type": "text"
      },
      "source": [
        "<a href=\"https://colab.research.google.com/github/hoangvuduyanh33/QA/blob/main/notebooks/DrQA.ipynb\" target=\"_parent\"><img src=\"https://colab.research.google.com/assets/colab-badge.svg\" alt=\"Open In Colab\"/></a>"
      ]
    },
    {
      "cell_type": "code",
      "metadata": {
        "id": "L0nnZfOwrvRc"
      },
      "source": [
        "from google.colab import drive\n",
        "drive.mount('/content/drive')"
      ],
      "execution_count": null,
      "outputs": []
    },
    {
      "cell_type": "markdown",
      "metadata": {
        "id": "620Lm6uvh9Xn"
      },
      "source": [
        "# Presequisite"
      ]
    },
    {
      "cell_type": "markdown",
      "metadata": {
        "id": "61WgujtaPOm5"
      },
      "source": [
        "## Install coccoc-tokenizer"
      ]
    },
    {
      "cell_type": "code",
      "metadata": {
        "id": "ipW3qcdoiV5B"
      },
      "source": [
        "%cd /content\n",
        "!git clone -q https://github.com/coccoc/coccoc-tokenizer\n",
        "\n",
        "%cd coccoc-tokenizer\n",
        "!mkdir build\n",
        "%cd build\n",
        "!cmake -DBUILD_PYTHON=1 ..\n",
        "!make install\n",
        "!mv /usr/local/lib/python3.7/site-packages/CocCocTokenizer* /usr/local/lib/python3.7/dist-packages"
      ],
      "execution_count": null,
      "outputs": []
    },
    {
      "cell_type": "markdown",
      "metadata": {
        "id": "0A67MhpjbXYJ"
      },
      "source": [
        "## Install DrQA"
      ]
    },
    {
      "cell_type": "code",
      "metadata": {
        "id": "TC4lhB--ZRRS"
      },
      "source": [
        "%cd /content\n",
        "!git clone -q --recurse-submodules https://github.com/hoangvuduyanh33/QA\n",
        "%cd /content/QA\n",
        "!pip install -q -r requirements.txt\n",
        "!python setup.py -q develop"
      ],
      "execution_count": null,
      "outputs": []
    },
    {
      "cell_type": "markdown",
      "metadata": {
        "id": "ByosX71ah5o5"
      },
      "source": [
        "## Download data"
      ]
    },
    {
      "cell_type": "code",
      "metadata": {
        "id": "XxqH-dkJ9VHz"
      },
      "source": [
        "%cd /content/QA\n",
        "!mkdir data"
      ],
      "execution_count": null,
      "outputs": []
    },
    {
      "cell_type": "code",
      "metadata": {
        "id": "j1J2t8F0J3P3"
      },
      "source": [
        "%cd /tmp\n",
        "!gdown https://drive.google.com/uc?id=1be4DVbFF9rp3oua7rBZ3O4wEDSsg045m -O datasets.zip\n",
        "!gdown https://drive.google.com/uc?id=1--6kxO1fUwScvn3CFkR8_XzA4s63Tevf -O wikipedia_using.zip\n",
        "!gdown https://drive.google.com/uc?id=1Qjb5MzhRGjdKpoDI3vweDRdfWP6oxdid -O english_wiki_2018_index.zip\n",
        "!gdown https://drive.google.com/uc?id=12tvYRn8oHK0VXKZiqaubhkij348PxRTM -O vietnamese_wiki_20210501_index.zip"
      ],
      "execution_count": null,
      "outputs": []
    },
    {
      "cell_type": "code",
      "metadata": {
        "id": "KlvBcNkJDOpW"
      },
      "source": [
        "%cd /content/QA\n",
        "!unzip -q /tmp/datasets.zip ./data\n",
        "!unzip -q /tmp/wikipedia_using.zip ./data\n",
        "!unzip -q /tmp/english_wiki_2018_index.zip -d ./data\n",
        "!unzip -q /tmp/vietnamese_wiki_20210501_index.zip -d ./data/index"
      ],
      "execution_count": null,
      "outputs": []
    },
    {
      "cell_type": "markdown",
      "metadata": {
        "id": "ZAyg82fsQUga"
      },
      "source": [
        "## Download model"
      ]
    },
    {
      "cell_type": "code",
      "metadata": {
        "id": "-5urmCBjQUId"
      },
      "source": [
        "%cd /content/QA/data\n",
        "!mkdir model"
      ],
      "execution_count": null,
      "outputs": []
    },
    {
      "cell_type": "code",
      "metadata": {
        "id": "4m-BssiXLQn1"
      },
      "source": [
        "%cd /tmp\n",
        "!gdown https://drive.google.com/uc?id=1-P-uPD43Qb_hP45JTeVkrPqNstLrXZ8Z -O output-xlm-roberta-base-mlqa-xquad-vi-wiki.zip"
      ],
      "execution_count": null,
      "outputs": []
    },
    {
      "cell_type": "code",
      "metadata": {
        "id": "-PNdAf63QZLF"
      },
      "source": [
        "%cd /content/QA/data\n",
        "!unzip -q /tmp/output-xlm-roberta-base-mlqa-xquad-vi-wiki.zip ./model"
      ],
      "execution_count": null,
      "outputs": []
    },
    {
      "cell_type": "markdown",
      "metadata": {
        "id": "VGSOWE4iiMdy"
      },
      "source": [
        "# Run interactive pipeline"
      ]
    },
    {
      "cell_type": "markdown",
      "metadata": {
        "id": "SZO35r0_ByV-"
      },
      "source": [
        "## English"
      ]
    },
    {
      "cell_type": "markdown",
      "metadata": {
        "id": "OjF5SsggBDH2"
      },
      "source": [
        "### Pyserini"
      ]
    },
    {
      "cell_type": "code",
      "metadata": {
        "id": "lIqffVd7qtYN"
      },
      "source": [
        "%cd /content/QA\n",
        "\n",
        "!python scripts/pipeline_transformers/interactive.py \\\n",
        "    --retriever serini-bm25 \\\n",
        "    --reader-model distilbert-base-cased-distilled-squad \\\n",
        "    --index-path data/index/lucene-index.enwiki-20180701-paragraphs \\\n",
        "    --num-workers 6 \\\n",
        "    --index-lan en"
      ],
      "execution_count": null,
      "outputs": []
    },
    {
      "cell_type": "markdown",
      "metadata": {
        "id": "aL0CmJJyBVYO"
      },
      "source": [
        "### DrQA-Transformers"
      ]
    },
    {
      "cell_type": "code",
      "metadata": {
        "id": "sXkwr8hTBXwG"
      },
      "source": [
        "%cd /content/QA\n",
        "\n",
        "!python scripts/pipeline_transformers/interactive.py \\\n",
        "    --retriever-model data/wikipedia_using/en/docs-tfidf-ngram=1-hash=16777216-tokenizer=spacy.npz \\\n",
        "    --doc-db data/wikipedia_using/en/docs.db \\\n",
        "    --num-workers 6 \\\n",
        "    --retriever tfidf"
      ],
      "execution_count": null,
      "outputs": []
    },
    {
      "cell_type": "markdown",
      "metadata": {
        "id": "0WmqrM9eh0UQ"
      },
      "source": [
        "## Vietnamese"
      ]
    },
    {
      "cell_type": "markdown",
      "metadata": {
        "id": "AuI2UGp5Bbfg"
      },
      "source": [
        "### Pyserini"
      ]
    },
    {
      "cell_type": "code",
      "metadata": {
        "id": "2U9yroiKnMCQ"
      },
      "source": [
        "%cd /content/QA\n",
        "\n",
        "!python scripts/pipeline_transformers/interactive.py \\\n",
        "    --retriever serini-bm25 \\\n",
        "    --reader-model data/model/output-xlm-roberta-base-mlqa-xquad-vi-wiki \\\n",
        "    --index-path data/index/lucene-index.viwiki-20210501-paragraphs \\\n",
        "    --num-workers 6 \\\n",
        "    --index-lan vi"
      ],
      "execution_count": null,
      "outputs": []
    },
    {
      "cell_type": "markdown",
      "metadata": {
        "id": "ay8WrbwYBdm8"
      },
      "source": [
        "### DrQA-Transformers"
      ]
    },
    {
      "cell_type": "code",
      "metadata": {
        "id": "5iw_ecpKBtAC"
      },
      "source": [
        "%cd /content/QA\n",
        "\n",
        "!python scripts/pipeline_transformers/interactive.py \\\n",
        "    --retriever-model data/wikipedia_using/vi/docs-tfidf-ngram=1-hash=16777216-tokenizer=coccoc.npz \\\n",
        "    --doc-db data/wikipedia_using/vi/docs.db \\\n",
        "    --num-workers 6 \\\n",
        "    --retriever tfidf"
      ],
      "execution_count": null,
      "outputs": []
    },
    {
      "cell_type": "markdown",
      "metadata": {
        "id": "KK0wAnZ_cDJZ"
      },
      "source": [
        "# Run WebUI"
      ]
    },
    {
      "cell_type": "markdown",
      "metadata": {
        "id": "Xg1Cux2-APB3"
      },
      "source": [
        "## English"
      ]
    },
    {
      "cell_type": "markdown",
      "metadata": {
        "id": "I0in_38BASO3"
      },
      "source": [
        "### Pyserini"
      ]
    },
    {
      "cell_type": "code",
      "metadata": {
        "id": "Ely2gADocJhU"
      },
      "source": [
        "%cd /content/QA/drqa-webui\n",
        "!USE_NGROK=True gunicorn --timeout 300 \"index:app(retriever='serini-bm25', lang='en')\""
      ],
      "execution_count": null,
      "outputs": []
    },
    {
      "cell_type": "markdown",
      "metadata": {
        "id": "OX64kcGkAc2C"
      },
      "source": [
        "### DrQA-Transformers"
      ]
    },
    {
      "cell_type": "code",
      "metadata": {
        "id": "F3zkcOvqAdkv"
      },
      "source": [
        "%cd /content/QA/drqa-webui\n",
        "!USE_NGROK=True gunicorn --timeout 300 \"index:app(retriever='tfidf', lang='en')\""
      ],
      "execution_count": null,
      "outputs": []
    },
    {
      "cell_type": "markdown",
      "metadata": {
        "id": "utRM0AhEAhYx"
      },
      "source": [
        "## Vietnamese"
      ]
    },
    {
      "cell_type": "markdown",
      "metadata": {
        "id": "C3P_phreAj2f"
      },
      "source": [
        "### Pyserini"
      ]
    },
    {
      "cell_type": "code",
      "metadata": {
        "id": "YegKLyMvAjDG"
      },
      "source": [
        "%cd /content/QA/drqa-webui\n",
        "!USE_NGROK=True gunicorn --timeout 300 \"index:app(retriever='serini-bm25', lang='vi')\""
      ],
      "execution_count": null,
      "outputs": []
    },
    {
      "cell_type": "markdown",
      "metadata": {
        "id": "lDVz-R06Am4p"
      },
      "source": [
        "### DrQA-Transformers"
      ]
    },
    {
      "cell_type": "code",
      "metadata": {
        "id": "tNX8sS9LApev"
      },
      "source": [
        "%cd /content/QA/drqa-webui\n",
        "!USE_NGROK=True gunicorn --timeout 300 \"index:app(retriever='tfidf', lang='vi')\""
      ],
      "execution_count": null,
      "outputs": []
    }
  ]
}
